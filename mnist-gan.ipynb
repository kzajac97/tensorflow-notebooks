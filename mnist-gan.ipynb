{
  "nbformat": 4,
  "nbformat_minor": 0,
  "metadata": {
    "colab": {
      "name": "DCGAN.ipynb",
      "provenance": [],
      "toc_visible": true
    },
    "kernelspec": {
      "name": "python3",
      "display_name": "Python 3"
    },
    "accelerator": "GPU"
  },
  "cells": [
    {
      "cell_type": "markdown",
      "metadata": {
        "id": "cElO5vhbfRDk"
      },
      "source": [
        "# GAN\n",
        "\n",
        "Simple MNIST GAN with adversarial training <br>\n",
        "\n",
        "## Setup"
      ]
    },
    {
      "cell_type": "code",
      "metadata": {
        "colab": {
          "base_uri": "https://localhost:8080/"
        },
        "id": "uWt5HGI-d-Em",
        "outputId": "2df49c49-5390-488e-f10d-dfff8e8d6f3e"
      },
      "source": [
        "from google.colab import drive\n",
        "\n",
        "drive.mount('/content/gdrive')\n",
        "root_path = 'gdrive/My Drive/Python/GAN'"
      ],
      "execution_count": null,
      "outputs": [
        {
          "output_type": "stream",
          "text": [
            "Drive already mounted at /content/gdrive; to attempt to forcibly remount, call drive.mount(\"/content/gdrive\", force_remount=True).\n"
          ],
          "name": "stdout"
        }
      ]
    },
    {
      "cell_type": "code",
      "metadata": {
        "id": "m55LunfUd1nW"
      },
      "source": [
        "import os\n",
        "import glob\n",
        "import time\n",
        "\n",
        "import numpy as np\n",
        "import pandas as pd\n",
        "import tensorflow as tf\n",
        "from IPython import display\n",
        "from matplotlib import pyplot as plt\n",
        "from tqdm import tqdm as progress_bar"
      ],
      "execution_count": null,
      "outputs": []
    },
    {
      "cell_type": "markdown",
      "metadata": {
        "id": "2nlMeYPwfPCh"
      },
      "source": [
        "## Data\n",
        "\n",
        "Use MNIST data set stored on Google Drive. "
      ]
    },
    {
      "cell_type": "code",
      "metadata": {
        "id": "mI14SDzydzgG"
      },
      "source": [
        "mnist_df = pd.read_csv(os.path.join(root_path, \"train.csv\"))\n",
        "train_images = mnist_df.loc[:, \"pixel0\": \"pixel783\"].values\n",
        "train_images = train_images.reshape(train_images.shape[0], 28, 28, 1)\n",
        "labels = mnist_df[\"label\"].values"
      ],
      "execution_count": null,
      "outputs": []
    },
    {
      "cell_type": "markdown",
      "metadata": {
        "id": "9Xpo1y-YqSnH"
      },
      "source": [
        "Convert images to [-1, 1] range. "
      ]
    },
    {
      "cell_type": "code",
      "metadata": {
        "id": "NqCAjwhDe239"
      },
      "source": [
        "def normalize_image(image):\n",
        "    return (image.astype(\"float32\") - 127.5) / 127.5\n",
        "\n",
        "train_images = np.apply_along_axis(normalize_image, 1, train_images)"
      ],
      "execution_count": null,
      "outputs": []
    },
    {
      "cell_type": "markdown",
      "metadata": {
        "id": "bSeH1kdzqhlU"
      },
      "source": [
        "Create TensorFlow data set from loaded images. "
      ]
    },
    {
      "cell_type": "code",
      "metadata": {
        "id": "seRC6O5GgT_G"
      },
      "source": [
        "BUFFER_SIZE = 60000\n",
        "BATCH_SIZE = 250\n",
        "\n",
        "# Batch and shuffle the data\n",
        "train_dataset = tf.data.Dataset.from_tensor_slices(train_images).shuffle(BUFFER_SIZE).batch(BATCH_SIZE)"
      ],
      "execution_count": null,
      "outputs": []
    },
    {
      "cell_type": "markdown",
      "metadata": {
        "id": "exLCXXV3qmr6"
      },
      "source": [
        "## Model\n",
        "\n",
        "Create Convolutional GAN in a single Python class. <br>"
      ]
    },
    {
      "cell_type": "code",
      "metadata": {
        "id": "8Q-54h6CsIVM"
      },
      "source": [
        "class MNISTGAN:\n",
        "    def __init__(self, latent_dim=100):\n",
        "        self.latent_dim = latent_dim\n",
        "        self.generator = tf.keras.Sequential()\n",
        "        # processing input distribution\n",
        "        self.generator.add(tf.keras.layers.Dense(7*7*256, use_bias=False, input_shape=(latent_dim,)))\n",
        "        self.generator.add(tf.keras.layers.BatchNormalization())\n",
        "        self.generator.add(tf.keras.layers.LeakyReLU())\n",
        "        self.generator.add(tf.keras.layers.Reshape((7, 7, 256)))\n",
        "        # Conv2DTranspose upsampling with batch norm\n",
        "        self.generator.add(tf.keras.layers.Conv2DTranspose(128, (5, 5), strides=(1, 1), padding=\"same\", use_bias=False))\n",
        "        self.generator.add(tf.keras.layers.BatchNormalization())\n",
        "        self.generator.add(tf.keras.layers.LeakyReLU())\n",
        "        # Conv2DTranspose upsampling with batch norm\n",
        "        self.generator.add(tf.keras.layers.Conv2DTranspose(64, (5, 5), strides=(2, 2), padding=\"same\", use_bias=False))\n",
        "        self.generator.add(tf.keras.layers.BatchNormalization())\n",
        "        self.generator.add(tf.keras.layers.LeakyReLU())\n",
        "        # final Conv2DTranspose upsampling\n",
        "        self.generator.add(tf.keras.layers.Conv2DTranspose(1, (5, 5), strides=(2, 2), padding=\"same\", use_bias=False, activation=\"tanh\"))\n",
        "\n",
        "        self.discriminator = tf.keras.Sequential()\n",
        "        # Conv layer with dropout\n",
        "        self.discriminator.add(tf.keras.layers.Conv2D(64, (5, 5), strides=(2, 2), padding=\"same\", input_shape=[28, 28, 1]))\n",
        "        self.discriminator.add(tf.keras.layers.LeakyReLU())\n",
        "        self.discriminator.add(tf.keras.layers.Dropout(0.3))\n",
        "        # Conv layer with dropout\n",
        "        self.discriminator.add(tf.keras.layers.Conv2D(128, (5, 5), strides=(2, 2), padding=\"same\"))\n",
        "        self.discriminator.add(tf.keras.layers.LeakyReLU())\n",
        "        self.discriminator.add(tf.keras.layers.Dropout(0.3))\n",
        "        # output layer returning probability\n",
        "        self.discriminator.add(tf.keras.layers.Flatten())\n",
        "        self.discriminator.add(tf.keras.layers.Dense(1))\n",
        "\n",
        "        self.loss_function = tf.keras.losses.BinaryCrossentropy(from_logits=True)\n",
        "\n",
        "        self.generator_optimizer = tf.keras.optimizers.Adam(1e-4)\n",
        "        self.discriminator_optimizer = tf.keras.optimizers.Adam(1e-4)\n",
        "\n",
        "    def discriminator_loss(self, real_output, fake_output):\n",
        "        real_loss = self.loss_function(tf.ones_like(real_output), real_output)\n",
        "        fake_loss = self.loss_function(tf.zeros_like(fake_output), fake_output)\n",
        "        total_loss = real_loss + fake_loss\n",
        "        \n",
        "        return total_loss\n",
        "\n",
        "    def generator_loss(self, fake_output):\n",
        "        return self.loss_function(tf.ones_like(fake_output), fake_output)\n",
        "\n",
        "    def generate(self, n_images=1):\n",
        "        input_noise = tf.random.normal([n_images, self.latent_dim])\n",
        "        return self.generator(input_noise, training=False)\n",
        "\n",
        "    def predict(self, images):\n",
        "        return self.discriminator.predict(images)\n",
        "\n",
        "    def fit(self, dataset, n_epochs, batch_size=256, silent=False):\n",
        "        for epoch in progress_bar(range(n_epochs), disable=silent):\n",
        "            for image_batch in dataset:\n",
        "                self.train_step(image_batch, batch_size)\n",
        "\n",
        "    @tf.function\n",
        "    def train_step(self, images, batch_size):\n",
        "        noise = tf.random.normal([batch_size, self.latent_dim])\n",
        "\n",
        "        with tf.GradientTape() as gen_tape, tf.GradientTape() as disc_tape:\n",
        "            generated_images = self.generator(noise, training=True)\n",
        "\n",
        "            real_output = self.discriminator(images, training=True)\n",
        "            fake_output = self.discriminator(generated_images, training=True)\n",
        "\n",
        "            gen_loss = self.generator_loss(fake_output)\n",
        "            disc_loss = self.discriminator_loss(real_output, fake_output)\n",
        "\n",
        "        gradients_of_generator = gen_tape.gradient(gen_loss, self.generator.trainable_variables)\n",
        "        gradients_of_discriminator = disc_tape.gradient(disc_loss, self.discriminator.trainable_variables)\n",
        "\n",
        "        self.generator_optimizer.apply_gradients(zip(gradients_of_generator, self.generator.trainable_variables))\n",
        "        self.discriminator_optimizer.apply_gradients(zip(gradients_of_discriminator, self.discriminator.trainable_variables))\n"
      ],
      "execution_count": null,
      "outputs": []
    },
    {
      "cell_type": "code",
      "metadata": {
        "id": "6lWQMUHJqwu8"
      },
      "source": [
        "gan = MNISTGAN()"
      ],
      "execution_count": null,
      "outputs": []
    },
    {
      "cell_type": "code",
      "metadata": {
        "colab": {
          "base_uri": "https://localhost:8080/"
        },
        "id": "Ek4LGdWBwKcc",
        "outputId": "f60ea815-bae6-4a31-991a-72cd21155e93"
      },
      "source": [
        "gan.fit(train_dataset, 50)"
      ],
      "execution_count": null,
      "outputs": [
        {
          "output_type": "stream",
          "text": [
            "100%|██████████| 50/50 [05:58<00:00,  7.18s/it]\n"
          ],
          "name": "stderr"
        }
      ]
    },
    {
      "cell_type": "code",
      "metadata": {
        "colab": {
          "base_uri": "https://localhost:8080/",
          "height": 265
        },
        "id": "UXNFGcRbwO8T",
        "outputId": "7685d94c-c763-427e-db13-ae02c593c776"
      },
      "source": [
        "generated_image = gan.generate()\n",
        "\n",
        "_ = plt.imshow(generated_image[0, :, :, 0], cmap=\"gray\")"
      ],
      "execution_count": null,
      "outputs": [
        {
          "output_type": "display_data",
          "data": {
            "image/png": "[encoded data removed]",
            "text/plain": [
              "<Figure size 432x288 with 1 Axes>"
            ]
          },
          "metadata": {
            "tags": [],
            "needs_background": "light"
          }
        }
      ]
    },
    {
      "cell_type": "code",
      "metadata": {
        "colab": {
          "base_uri": "https://localhost:8080/"
        },
        "id": "uGvo_pZy7uOl",
        "outputId": "f0162dd9-d53f-404d-da26-2b56f26f9add"
      },
      "source": [
        "gan.predict(generated_image)"
      ],
      "execution_count": null,
      "outputs": [
        {
          "output_type": "execute_result",
          "data": {
            "text/plain": [
              "array([[-0.8117558]], dtype=float32)"
            ]
          },
          "metadata": {
            "tags": []
          },
          "execution_count": 24
        }
      ]
    },
    {
      "cell_type": "code",
      "metadata": {
        "colab": {
          "base_uri": "https://localhost:8080/"
        },
        "id": "1XUfxucazIRY",
        "outputId": "f1d48bcf-b751-4a3e-cd63-b1bf0d0d39d6"
      },
      "source": [
        "gan.predict([np.random.randn(28*28).reshape(1, 28, 28, 1)])"
      ],
      "execution_count": null,
      "outputs": [
        {
          "output_type": "execute_result",
          "data": {
            "text/plain": [
              "array([[-13.752408]], dtype=float32)"
            ]
          },
          "metadata": {
            "tags": []
          },
          "execution_count": 25
        }
      ]
    },
    {
      "cell_type": "code",
      "metadata": {
        "id": "dYqfS0Kp9mjU"
      },
      "source": [
        ""
      ],
      "execution_count": null,
      "outputs": []
    }
  ]
}